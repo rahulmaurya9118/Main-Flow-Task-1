{
 "cells": [
  {
   "cell_type": "code",
   "execution_count": 13,
   "id": "4b4b409c-b9b2-487b-8177-eb6741acdb91",
   "metadata": {},
   "outputs": [
    {
     "name": "stdout",
     "output_type": "stream",
     "text": [
      "Updated List: [1, 2, 3, 4, 5, 6, 7, 8, 9, 10, 11]\n",
      "Updated List: [1, 2, 3, 4, 5, 7, 8, 9, 10, 11]\n",
      "Updated List: [10, 2, 3, 4, 5, 7, 8, 9, 10, 11]\n"
     ]
    }
   ],
   "source": [
    "#creating a list\n",
    "my_list = [1,2,3,4,5,6,7,8,9,10]\n",
    "\n",
    "#adding an element to the list \n",
    "my_list.append(11)\n",
    "\n",
    "print(\"Updated List:\" , my_list)\n",
    "\n",
    "#removing an element from the list\n",
    "my_list.remove(6)\n",
    "\n",
    "print(\"Updated List:\" , my_list)\n",
    "\n",
    "#modifying an element in the list\n",
    "my_list[0] = 10\n",
    "\n",
    "print(\"Updated List:\" , my_list)\n"
   ]
  },
  {
   "cell_type": "code",
   "execution_count": 14,
   "id": "77e93dc9-9526-4319-b733-1cdfc8a95076",
   "metadata": {},
   "outputs": [
    {
     "name": "stdout",
     "output_type": "stream",
     "text": [
      "Updated Dictionary: {'name': 'Prakhar', 'age': 22, 'location': 'Varanasi', 'contact': 123456789, 'gender': 'male', 'Highest Qualification': 'MBA'}\n",
      "Updated Dictionary: {'name': 'Prakhar', 'age': 22, 'location': 'Varanasi', 'contact': 123456789, 'Highest Qualification': 'MBA'}\n",
      "Updated Dictionary: {'name': 'Prakhar', 'age': 22, 'location': 'Kashi', 'contact': 123456789, 'Highest Qualification': 'MBA'}\n"
     ]
    }
   ],
   "source": [
    "#create dictionary\n",
    "my_dict = {'name': 'Prakhar', 'age': 22, 'location': 'Varanasi', 'contact': 123456789, 'gender': 'male'}\n",
    "\n",
    "#adding\n",
    "my_dict['Highest Qualification'] = 'MBA'\n",
    "\n",
    "print(\"Updated Dictionary:\" , my_dict)\n",
    "\n",
    "#removing\n",
    "del my_dict['gender']\n",
    "\n",
    "print(\"Updated Dictionary:\" , my_dict)\n",
    "\n",
    "#modifying\n",
    "my_dict['location'] = 'Kashi'\n",
    "\n",
    "print(\"Updated Dictionary:\" , my_dict)  \n"
   ]
  },
  {
   "cell_type": "code",
   "execution_count": 15,
   "id": "c3013b93-611a-43d9-902f-0b0a58da95b7",
   "metadata": {},
   "outputs": [
    {
     "name": "stdout",
     "output_type": "stream",
     "text": [
      "Updated Set: {400, 100, 500, 200, 300}\n",
      "Updated Set: {400, 100, 500, 200, 600, 300}\n",
      "Updated Set: {400, 100, 200, 600, 300}\n",
      "Updated Set: {400, 700, 100, 600, 300}\n"
     ]
    }
   ],
   "source": [
    "#creating set\n",
    "my_set = {100,200,300,400,500}\n",
    "\n",
    "print(\"Updated Set:\" , my_set)\n",
    "\n",
    "#adding\n",
    "my_set.add(600)\n",
    "\n",
    "print(\"Updated Set:\" , my_set)\n",
    "\n",
    "#removing\n",
    "my_set.remove(500)\n",
    "\n",
    "print(\"Updated Set:\" , my_set)\n",
    "\n",
    "#mmodifying\n",
    "my_set.discard(200)\n",
    "my_set.add(700)\n",
    "\n",
    "print(\"Updated Set:\" , my_set)"
   ]
  }
 ],
 "metadata": {
  "kernelspec": {
   "display_name": "Python 3 (ipykernel)",
   "language": "python",
   "name": "python3"
  },
  "language_info": {
   "codemirror_mode": {
    "name": "ipython",
    "version": 3
   },
   "file_extension": ".py",
   "mimetype": "text/x-python",
   "name": "python",
   "nbconvert_exporter": "python",
   "pygments_lexer": "ipython3",
   "version": "3.11.7"
  }
 },
 "nbformat": 4,
 "nbformat_minor": 5
}
